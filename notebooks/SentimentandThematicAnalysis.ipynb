{
 "cells": [
  {
   "cell_type": "markdown",
   "id": "983b53e0",
   "metadata": {},
   "source": [
    "## Sentiment and Thematic Analysis"
   ]
  },
  {
   "cell_type": "markdown",
   "id": "85b7bc0c",
   "metadata": {},
   "source": [
    "#### import libraries"
   ]
  },
  {
   "cell_type": "code",
   "execution_count": 3,
   "id": "66ad98dd",
   "metadata": {},
   "outputs": [],
   "source": [
    "import pandas as pd #imported libraries\n",
    "import numpy as np #imported libraries\n",
    "from textblob import TextBlob #imported libraries\n",
    "import matplotlib.pyplot as plt #imported libraries\n",
    "import seaborn as sns #imported libraries\n"
   ]
  },
  {
   "cell_type": "markdown",
   "id": "b6e623e7",
   "metadata": {},
   "source": [
    "Import the Cleaned reviews"
   ]
  },
  {
   "cell_type": "code",
   "execution_count": 4,
   "id": "fcbdee9e",
   "metadata": {},
   "outputs": [
    {
     "data": {
      "text/plain": [
       "Index(['Review', 'Rating', 'Date', 'Bank', 'Source'], dtype='object')"
      ]
     },
     "execution_count": 4,
     "metadata": {},
     "output_type": "execute_result"
    }
   ],
   "source": [
    "Clean = pd.read_csv('/home/samrawit/Desktop/Banking_Application_Experience_Analysis/Data/processed/allCleanedReviews.csv') #imported the CVS\n",
    "\n",
    "Clean.head()\n",
    "\n",
    "Clean.columns"
   ]
  },
  {
   "cell_type": "markdown",
   "id": "54d68db4",
   "metadata": {},
   "source": [
    "Import the sentiment analysis script"
   ]
  },
  {
   "cell_type": "code",
   "execution_count": 13,
   "id": "fc18147e",
   "metadata": {},
   "outputs": [
    {
     "name": "stderr",
     "output_type": "stream",
     "text": [
      "/home/samrawit/Desktop/Banking_Application_Experience_Analysis/venv/lib/python3.12/site-packages/tqdm/auto.py:21: TqdmWarning: IProgress not found. Please update jupyter and ipywidgets. See https://ipywidgets.readthedocs.io/en/stable/user_install.html\n",
      "  from .autonotebook import tqdm as notebook_tqdm\n",
      "Device set to use cpu\n"
     ]
    }
   ],
   "source": [
    "import sys\n",
    "import os\n",
    "sys.path.append(os.path.abspath(\"..\"))\n",
    "\n",
    "\n",
    "from scripts.Sentimental_analysis import Analyze_Sentiment, sentiment_ADD, Combine_sentiment"
   ]
  },
  {
   "cell_type": "code",
   "execution_count": 14,
   "id": "9354f69a",
   "metadata": {},
   "outputs": [
    {
     "data": {
      "text/html": [
       "<div>\n",
       "<style scoped>\n",
       "    .dataframe tbody tr th:only-of-type {\n",
       "        vertical-align: middle;\n",
       "    }\n",
       "\n",
       "    .dataframe tbody tr th {\n",
       "        vertical-align: top;\n",
       "    }\n",
       "\n",
       "    .dataframe thead th {\n",
       "        text-align: right;\n",
       "    }\n",
       "</style>\n",
       "<table border=\"1\" class=\"dataframe\">\n",
       "  <thead>\n",
       "    <tr style=\"text-align: right;\">\n",
       "      <th></th>\n",
       "      <th>Review</th>\n",
       "      <th>sentiment_label</th>\n",
       "      <th>sentiment_score</th>\n",
       "    </tr>\n",
       "  </thead>\n",
       "  <tbody>\n",
       "    <tr>\n",
       "      <th>0</th>\n",
       "      <td>\"why don’t your atms support account-to-accoun...</td>\n",
       "      <td>negative</td>\n",
       "      <td>0.996465</td>\n",
       "    </tr>\n",
       "    <tr>\n",
       "      <th>1</th>\n",
       "      <td>what is this app problem???</td>\n",
       "      <td>negative</td>\n",
       "      <td>0.999623</td>\n",
       "    </tr>\n",
       "    <tr>\n",
       "      <th>2</th>\n",
       "      <td>the app is proactive and a good connections.</td>\n",
       "      <td>positive</td>\n",
       "      <td>0.999868</td>\n",
       "    </tr>\n",
       "    <tr>\n",
       "      <th>3</th>\n",
       "      <td>i cannot send to cbebirr app. through this app.</td>\n",
       "      <td>negative</td>\n",
       "      <td>0.995335</td>\n",
       "    </tr>\n",
       "    <tr>\n",
       "      <th>4</th>\n",
       "      <td>good</td>\n",
       "      <td>positive</td>\n",
       "      <td>0.999816</td>\n",
       "    </tr>\n",
       "  </tbody>\n",
       "</table>\n",
       "</div>"
      ],
      "text/plain": [
       "                                              Review sentiment_label  \\\n",
       "0  \"why don’t your atms support account-to-accoun...        negative   \n",
       "1                        what is this app problem???        negative   \n",
       "2       the app is proactive and a good connections.        positive   \n",
       "3    i cannot send to cbebirr app. through this app.        negative   \n",
       "4                                               good        positive   \n",
       "\n",
       "   sentiment_score  \n",
       "0         0.996465  \n",
       "1         0.999623  \n",
       "2         0.999868  \n",
       "3         0.995335  \n",
       "4         0.999816  "
      ]
     },
     "execution_count": 14,
     "metadata": {},
     "output_type": "execute_result"
    }
   ],
   "source": [
    "Clean = sentiment_ADD(Clean)\n",
    "\n",
    "Clean[[\"Review\", \"sentiment_label\", \"sentiment_score\"]].head()"
   ]
  },
  {
   "cell_type": "code",
   "execution_count": 15,
   "id": "2e38df93",
   "metadata": {},
   "outputs": [
    {
     "data": {
      "text/html": [
       "<div>\n",
       "<style scoped>\n",
       "    .dataframe tbody tr th:only-of-type {\n",
       "        vertical-align: middle;\n",
       "    }\n",
       "\n",
       "    .dataframe tbody tr th {\n",
       "        vertical-align: top;\n",
       "    }\n",
       "\n",
       "    .dataframe thead th {\n",
       "        text-align: right;\n",
       "    }\n",
       "</style>\n",
       "<table border=\"1\" class=\"dataframe\">\n",
       "  <thead>\n",
       "    <tr style=\"text-align: right;\">\n",
       "      <th></th>\n",
       "      <th>Bank</th>\n",
       "      <th>Rating</th>\n",
       "      <th>sentiment_score</th>\n",
       "    </tr>\n",
       "  </thead>\n",
       "  <tbody>\n",
       "    <tr>\n",
       "      <th>0</th>\n",
       "      <td>BOA</td>\n",
       "      <td>1</td>\n",
       "      <td>0.984489</td>\n",
       "    </tr>\n",
       "    <tr>\n",
       "      <th>1</th>\n",
       "      <td>BOA</td>\n",
       "      <td>2</td>\n",
       "      <td>0.953483</td>\n",
       "    </tr>\n",
       "    <tr>\n",
       "      <th>2</th>\n",
       "      <td>BOA</td>\n",
       "      <td>3</td>\n",
       "      <td>0.966293</td>\n",
       "    </tr>\n",
       "    <tr>\n",
       "      <th>3</th>\n",
       "      <td>BOA</td>\n",
       "      <td>4</td>\n",
       "      <td>0.962163</td>\n",
       "    </tr>\n",
       "    <tr>\n",
       "      <th>4</th>\n",
       "      <td>BOA</td>\n",
       "      <td>5</td>\n",
       "      <td>0.972915</td>\n",
       "    </tr>\n",
       "  </tbody>\n",
       "</table>\n",
       "</div>"
      ],
      "text/plain": [
       "  Bank  Rating  sentiment_score\n",
       "0  BOA       1         0.984489\n",
       "1  BOA       2         0.953483\n",
       "2  BOA       3         0.966293\n",
       "3  BOA       4         0.962163\n",
       "4  BOA       5         0.972915"
      ]
     },
     "execution_count": 15,
     "metadata": {},
     "output_type": "execute_result"
    }
   ],
   "source": [
    "Aggregated=Combine_sentiment(Clean)\n",
    "\n",
    "Aggregated.head()"
   ]
  },
  {
   "cell_type": "markdown",
   "id": "77ca1b1e",
   "metadata": {},
   "source": [
    "## Thematic Analysis"
   ]
  },
  {
   "cell_type": "code",
   "execution_count": 1,
   "id": "192481fe",
   "metadata": {},
   "outputs": [],
   "source": [
    "import sys\n",
    "import os\n",
    "sys.path.append(os.path.abspath(\"..\"))\n",
    "\n",
    "\n",
    "from scripts.Theme_analysis import themes_assign\n",
    "from scripts.Theme_analysis import save_results"
   ]
  },
  {
   "cell_type": "code",
   "execution_count": 5,
   "id": "2d79309b",
   "metadata": {},
   "outputs": [
    {
     "name": "stderr",
     "output_type": "stream",
     "text": [
      "/home/samrawit/Desktop/Banking_Application_Experience_Analysis/venv/lib/python3.12/site-packages/sklearn/feature_extraction/text.py:402: UserWarning: Your stop_words may be inconsistent with your preprocessing. Tokenizing the stop words generated tokens ['ll', 've'] not in stop_words.\n",
      "  warnings.warn(\n"
     ]
    }
   ],
   "source": [
    "ThemeAnalyzed= themes_assign(Clean)"
   ]
  },
  {
   "cell_type": "code",
   "execution_count": 16,
   "id": "ad0286b2",
   "metadata": {},
   "outputs": [
    {
     "data": {
      "text/plain": [
       "{'Other': ['good',\n",
       "  'app',\n",
       "  'work',\n",
       "  'good app',\n",
       "  'nice',\n",
       "  'bank',\n",
       "  'bad',\n",
       "  'fast',\n",
       "  'banking',\n",
       "  'use',\n",
       "  'great',\n",
       "  'nan',\n",
       "  'easy',\n",
       "  'like',\n",
       "  'amazing',\n",
       "  'application',\n",
       "  'dashen',\n",
       "  'mobile',\n",
       "  'super',\n",
       "  'wow']}"
      ]
     },
     "execution_count": 16,
     "metadata": {},
     "output_type": "execute_result"
    }
   ],
   "source": [
    "ThemeAnalyzed"
   ]
  },
  {
   "cell_type": "markdown",
   "id": "85808a09",
   "metadata": {},
   "source": [
    "### Save it to CVS file."
   ]
  },
  {
   "cell_type": "code",
   "execution_count": 6,
   "id": "158b8942",
   "metadata": {},
   "outputs": [
    {
     "ename": "AttributeError",
     "evalue": "'dict' object has no attribute 'to_csv'",
     "output_type": "error",
     "traceback": [
      "\u001b[31m---------------------------------------------------------------------------\u001b[39m",
      "\u001b[31mAttributeError\u001b[39m                            Traceback (most recent call last)",
      "\u001b[36mCell\u001b[39m\u001b[36m \u001b[39m\u001b[32mIn[6]\u001b[39m\u001b[32m, line 1\u001b[39m\n\u001b[32m----> \u001b[39m\u001b[32m1\u001b[39m \u001b[43msave_results\u001b[49m\u001b[43m(\u001b[49m\u001b[43mThemeAnalyzed\u001b[49m\u001b[43m,\u001b[49m\u001b[43m \u001b[49m\u001b[43moutput_file\u001b[49m\u001b[43m=\u001b[49m\u001b[33;43m\"\u001b[39;49m\u001b[33;43m/home/samrawit/Desktop/Banking_Application_Experience_Analysis/Data/processed/thematic_analysis_results.csv\u001b[39;49m\u001b[33;43m\"\u001b[39;49m\u001b[43m)\u001b[49m\n",
      "\u001b[36mFile \u001b[39m\u001b[32m~/Desktop/Banking_Application_Experience_Analysis/scripts/Theme_analysis.py:60\u001b[39m, in \u001b[36msave_results\u001b[39m\u001b[34m(df, output_file)\u001b[39m\n\u001b[32m     57\u001b[39m \u001b[38;5;250m\u001b[39m\u001b[33;03m\"\"\"Save the provided DataFrame to a CSV file at the specified location.\"\"\"\u001b[39;00m\n\u001b[32m     59\u001b[39m \u001b[38;5;66;03m# Save to specified output file location\u001b[39;00m\n\u001b[32m---> \u001b[39m\u001b[32m60\u001b[39m \u001b[43mdf\u001b[49m\u001b[43m.\u001b[49m\u001b[43mto_csv\u001b[49m(output_file, index=\u001b[38;5;28;01mFalse\u001b[39;00m)\n",
      "\u001b[31mAttributeError\u001b[39m: 'dict' object has no attribute 'to_csv'"
     ]
    }
   ],
   "source": [
    "\n",
    "save_results(ThemeAnalyzed, output_file=\"/home/samrawit/Desktop/Banking_Application_Experience_Analysis/Data/processed/thematic_analysis_results.csv\")"
   ]
  },
  {
   "cell_type": "code",
   "execution_count": 7,
   "id": "402b087a",
   "metadata": {},
   "outputs": [
    {
     "name": "stdout",
     "output_type": "stream",
     "text": [
      "<class 'dict'>\n"
     ]
    }
   ],
   "source": [
    "print(type(ThemeAnalyzed))"
   ]
  },
  {
   "cell_type": "code",
   "execution_count": 8,
   "id": "0c157d46",
   "metadata": {},
   "outputs": [],
   "source": [
    "theme = pd.DataFrame(list(ThemeAnalyzed.items()), columns=[\"Theme\", \"Keywords\"])"
   ]
  },
  {
   "cell_type": "code",
   "execution_count": 9,
   "id": "15d4e69d",
   "metadata": {},
   "outputs": [
    {
     "data": {
      "text/html": [
       "<div>\n",
       "<style scoped>\n",
       "    .dataframe tbody tr th:only-of-type {\n",
       "        vertical-align: middle;\n",
       "    }\n",
       "\n",
       "    .dataframe tbody tr th {\n",
       "        vertical-align: top;\n",
       "    }\n",
       "\n",
       "    .dataframe thead th {\n",
       "        text-align: right;\n",
       "    }\n",
       "</style>\n",
       "<table border=\"1\" class=\"dataframe\">\n",
       "  <thead>\n",
       "    <tr style=\"text-align: right;\">\n",
       "      <th></th>\n",
       "      <th>Theme</th>\n",
       "      <th>Keywords</th>\n",
       "    </tr>\n",
       "  </thead>\n",
       "  <tbody>\n",
       "    <tr>\n",
       "      <th>0</th>\n",
       "      <td>Other</td>\n",
       "      <td>[good, app, work, good app, nice, bank, bad, f...</td>\n",
       "    </tr>\n",
       "  </tbody>\n",
       "</table>\n",
       "</div>"
      ],
      "text/plain": [
       "   Theme                                           Keywords\n",
       "0  Other  [good, app, work, good app, nice, bank, bad, f..."
      ]
     },
     "execution_count": 9,
     "metadata": {},
     "output_type": "execute_result"
    }
   ],
   "source": [
    "theme.head()"
   ]
  },
  {
   "cell_type": "code",
   "execution_count": 11,
   "id": "dd848f92",
   "metadata": {},
   "outputs": [],
   "source": [
    "\n",
    "save_results(theme, output_file=\"/home/samrawit/Desktop/Banking_Application_Experience_Analysis/Data/processed/thematic_analysis_results.csv\")"
   ]
  },
  {
   "cell_type": "code",
   "execution_count": 16,
   "id": "1f3b6180",
   "metadata": {},
   "outputs": [],
   "source": [
    "\n",
    "save_results(Aggregated, output_file=\"/home/samrawit/Desktop/Banking_Application_Experience_Analysis/Data/processed/Agreggated_analysis_results.csv\")"
   ]
  }
 ],
 "metadata": {
  "kernelspec": {
   "display_name": "venv",
   "language": "python",
   "name": "python3"
  },
  "language_info": {
   "codemirror_mode": {
    "name": "ipython",
    "version": 3
   },
   "file_extension": ".py",
   "mimetype": "text/x-python",
   "name": "python",
   "nbconvert_exporter": "python",
   "pygments_lexer": "ipython3",
   "version": "3.12.7"
  }
 },
 "nbformat": 4,
 "nbformat_minor": 5
}
